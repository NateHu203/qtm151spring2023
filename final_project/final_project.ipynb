{
 "cells": [
  {
   "attachments": {},
   "cell_type": "markdown",
   "metadata": {},
   "source": [
    "<font size = \"3\">\n",
    "QTM 151 Section 4\n",
    "Group Member: Nate Hu, Max Jiang, Garry Zhu\n",
    "\n",
    "Introduction (Background Analysis):\n",
    "\n",
    "Formula 1 is a premier motorsport competition recognized globally for its high-speed racing, cutting-edge technology, and iconic drivers and teams. This project aims to delve into the world of Formula 1, exploring various aspects of the competition, such as circuit characteristics, race results, driver performance, constructor success, and race statuses. Understanding the intricacies of this sport is relevant not only to fans and enthusiasts but also to stakeholders such as teams, sponsors, and broadcasters who can leverage insights to make informed decisions and improve various aspects of the competition.\n",
    "\n",
    "Undertsanding the Schema:\n",
    "In this project, we analyze a comprehensive Formula 1 dataset, focusing on different levels of the competition, including circuit, race, driver, constructor, and status. The goal is to extract meaningful insights and patterns that can help us answer key questions about the sport, such as identifying the most successful drivers or constructors, understanding the impact of circuit characteristics on race outcomes, and assessing the factors that contribute to the overall performance of a driver or a team. The project is structured into different sections, each addressing a specific level of the competition. The results of our analysis will be presented in a clear and concise manner, supported by visualizations and data-driven conclusions that cater to both Formula 1 aficionados and novices alike.\n",
    "\n",
    "Question:"
   ]
  },
  {
   "cell_type": "code",
   "execution_count": 1,
   "metadata": {},
   "outputs": [],
   "source": [
    "import pandas as pd\n",
    "import matplotlib.pyplot as plt\n",
    "import numpy as np"
   ]
  },
  {
   "cell_type": "code",
   "execution_count": null,
   "metadata": {},
   "outputs": [],
   "source": [
    "circuits = pd.read_csv(\"data_raw/circuits.csv\")\n",
    "constructors_results = pd.read_csv(\"data_raw/constructor_results.csv\")\n",
    "constructors_standings = pd.read_csv(\"data_raw/constructor_standings.csv\")\n",
    "constructors = pd.read_csv(\"data_raw/constructors.csv\")\n",
    "driver_standing = pd.read_csv()"
   ]
  }
 ],
 "metadata": {
  "kernelspec": {
   "display_name": "Python 3",
   "language": "python",
   "name": "python3"
  },
  "language_info": {
   "codemirror_mode": {
    "name": "ipython",
    "version": 3
   },
   "file_extension": ".py",
   "mimetype": "text/x-python",
   "name": "python",
   "nbconvert_exporter": "python",
   "pygments_lexer": "ipython3",
   "version": "3.11.1"
  },
  "orig_nbformat": 4,
  "vscode": {
   "interpreter": {
    "hash": "aee8b7b246df8f9039afb4144a1f6fd8d2ca17a180786b69acc140d282b71a49"
   }
  }
 },
 "nbformat": 4,
 "nbformat_minor": 2
}
